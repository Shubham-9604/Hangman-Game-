{
 "cells": [
  {
   "cell_type": "code",
   "execution_count": 22,
   "id": "4ffb043f-fd70-44e6-a666-4a55f9360d37",
   "metadata": {},
   "outputs": [
    {
     "name": "stdout",
     "output_type": "stream",
     "text": [
      "🎮 Welcome to Hangman!\n",
      "Guess the word:\n",
      "\n",
      "Word: _ _ _ _ _ _ _ _ _\n",
      "Used letters: \n",
      "Tries left: 6\n"
     ]
    },
    {
     "name": "stdin",
     "output_type": "stream",
     "text": [
      "Enter a letter:  c\n"
     ]
    },
    {
     "name": "stdout",
     "output_type": "stream",
     "text": [
      "Sorry, 'c' is not in the word.\n",
      "\n",
      "Word: _ _ _ _ _ _ _ _ _\n",
      "Used letters: c\n",
      "Tries left: 5\n"
     ]
    },
    {
     "name": "stdin",
     "output_type": "stream",
     "text": [
      "Enter a letter:  d\n"
     ]
    },
    {
     "name": "stdout",
     "output_type": "stream",
     "text": [
      "Good job! 'd' is in the word.\n",
      "\n",
      "Word: d _ _ _ _ _ _ _ _\n",
      "Used letters: c, d\n",
      "Tries left: 5\n"
     ]
    },
    {
     "name": "stdin",
     "output_type": "stream",
     "text": [
      "Enter a letter:  e\n"
     ]
    },
    {
     "name": "stdout",
     "output_type": "stream",
     "text": [
      "Good job! 'e' is in the word.\n",
      "\n",
      "Word: d e _ e _ _ _ e _\n",
      "Used letters: c, d, e\n",
      "Tries left: 5\n"
     ]
    },
    {
     "name": "stdin",
     "output_type": "stream",
     "text": [
      "Enter a letter:  v\n"
     ]
    },
    {
     "name": "stdout",
     "output_type": "stream",
     "text": [
      "Good job! 'v' is in the word.\n",
      "\n",
      "Word: d e v e _ _ _ e _\n",
      "Used letters: c, d, e, v\n",
      "Tries left: 5\n"
     ]
    },
    {
     "name": "stdin",
     "output_type": "stream",
     "text": [
      "Enter a letter:  l\n"
     ]
    },
    {
     "name": "stdout",
     "output_type": "stream",
     "text": [
      "Good job! 'l' is in the word.\n",
      "\n",
      "Word: d e v e l _ _ e _\n",
      "Used letters: c, d, e, l, v\n",
      "Tries left: 5\n"
     ]
    },
    {
     "name": "stdin",
     "output_type": "stream",
     "text": [
      "Enter a letter:  o\n"
     ]
    },
    {
     "name": "stdout",
     "output_type": "stream",
     "text": [
      "Good job! 'o' is in the word.\n",
      "\n",
      "Word: d e v e l o _ e _\n",
      "Used letters: c, d, e, l, o, v\n",
      "Tries left: 5\n"
     ]
    },
    {
     "name": "stdin",
     "output_type": "stream",
     "text": [
      "Enter a letter:  p\n"
     ]
    },
    {
     "name": "stdout",
     "output_type": "stream",
     "text": [
      "Good job! 'p' is in the word.\n",
      "\n",
      "Word: d e v e l o p e _\n",
      "Used letters: c, d, e, l, o, p, v\n",
      "Tries left: 5\n"
     ]
    },
    {
     "name": "stdin",
     "output_type": "stream",
     "text": [
      "Enter a letter:  r\n"
     ]
    },
    {
     "name": "stdout",
     "output_type": "stream",
     "text": [
      "Good job! 'r' is in the word.\n",
      "\n",
      "🎉 Congratulations! You guessed the word: developer\n"
     ]
    }
   ],
   "source": [
    "import random\n",
    "\n",
    "# List of words\n",
    "words = [\"python\", \"hangman\", \"challenge\", \"developer\", \"keyboard\", \"project\", \"function\"]\n",
    "\n",
    "# Choose a random word\n",
    "word = random.choice(words)\n",
    "guessed = [\"_\"] * len(word)\n",
    "used_letters = set()\n",
    "tries = 6  # Number of wrong guesses allowed\n",
    "\n",
    "print(\"🎮 Welcome to Hangman!\")\n",
    "print(\"Guess the word:\")\n",
    "\n",
    "while tries > 0 and \"_\" in guessed:\n",
    "    print(\"\\nWord:\", \" \".join(guessed))\n",
    "    print(f\"Used letters: {', '.join(sorted(used_letters))}\")\n",
    "    print(f\"Tries left: {tries}\")\n",
    "\n",
    "    guess = input(\"Enter a letter: \").lower()\n",
    "\n",
    "    if not guess.isalpha() or len(guess) != 1:\n",
    "        print(\"Please enter a single valid letter.\")\n",
    "        continue\n",
    "\n",
    "    if guess in used_letters:\n",
    "        print(\"You already guessed that letter.\")\n",
    "        continue\n",
    "\n",
    "    used_letters.add(guess)\n",
    "\n",
    "    if guess in word:\n",
    "        for i in range(len(word)):\n",
    "            if word[i] == guess:\n",
    "                guessed[i] = guess\n",
    "        print(f\"Good job! '{guess}' is in the word.\")\n",
    "    else:\n",
    "        tries -= 1\n",
    "        print(f\"Sorry, '{guess}' is not in the word.\")\n",
    "\n",
    "# Game result\n",
    "if \"_\" not in guessed:\n",
    "    print(\"\\n🎉 Congratulations! You guessed the word:\", word)\n",
    "else:\n",
    "    print(\"\\n💀 Game Over! The word was:\", word)\n"
   ]
  },
  {
   "cell_type": "code",
   "execution_count": null,
   "id": "e4956b96-9b4b-45c5-befb-3a7c966a8f7d",
   "metadata": {},
   "outputs": [],
   "source": []
  },
  {
   "cell_type": "code",
   "execution_count": null,
   "id": "3a2c44fc-2062-49f8-bdc1-543db6229ca7",
   "metadata": {},
   "outputs": [],
   "source": []
  }
 ],
 "metadata": {
  "kernelspec": {
   "display_name": "Python 3 (ipykernel)",
   "language": "python",
   "name": "python3"
  },
  "language_info": {
   "codemirror_mode": {
    "name": "ipython",
    "version": 3
   },
   "file_extension": ".py",
   "mimetype": "text/x-python",
   "name": "python",
   "nbconvert_exporter": "python",
   "pygments_lexer": "ipython3",
   "version": "3.11.7"
  }
 },
 "nbformat": 4,
 "nbformat_minor": 5
}
